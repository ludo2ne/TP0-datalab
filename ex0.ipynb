{
 "cells": [
  {
   "cell_type": "code",
   "execution_count": 13,
   "id": "5a011c3d-e7c3-474b-ad9e-6c2fc4af21e1",
   "metadata": {},
   "outputs": [
    {
     "name": "stdout",
     "output_type": "stream",
     "text": [
      "shape: (703_007, 4)\n",
      "┌──────┬────────────────┬────────┬────────┐\n",
      "│ sexe ┆ preusuel       ┆ annais ┆ nombre │\n",
      "│ ---  ┆ ---            ┆ ---    ┆ ---    │\n",
      "│ i64  ┆ str            ┆ str    ┆ i64    │\n",
      "╞══════╪════════════════╪════════╪════════╡\n",
      "│ 1    ┆ _PRENOMS_RARES ┆ 1900   ┆ 1249   │\n",
      "│ 1    ┆ _PRENOMS_RARES ┆ 1901   ┆ 1342   │\n",
      "│ 1    ┆ _PRENOMS_RARES ┆ 1902   ┆ 1330   │\n",
      "│ 1    ┆ _PRENOMS_RARES ┆ 1903   ┆ 1286   │\n",
      "│ 1    ┆ _PRENOMS_RARES ┆ 1904   ┆ 1430   │\n",
      "│ …    ┆ …              ┆ …      ┆ …      │\n",
      "│ 2    ┆ ZYNEB          ┆ 2019   ┆ 7      │\n",
      "│ 2    ┆ ZYNEB          ┆ 2020   ┆ 8      │\n",
      "│ 2    ┆ ZYNEB          ┆ 2021   ┆ 6      │\n",
      "│ 2    ┆ ZYNEB          ┆ 2022   ┆ 4      │\n",
      "│ 2    ┆ ZYNEB          ┆ XXXX   ┆ 19     │\n",
      "└──────┴────────────────┴────────┴────────┘\n"
     ]
    }
   ],
   "source": [
    "import os\n",
    "import polars as pl\n",
    "\n",
    "storage_options = {\n",
    "    \"aws_endpoint\":  'https://'+'minio-simple.lab.groupe-genes.fr',\n",
    "    \"aws_access_key_id\": os.environ[\"AWS_ACCESS_KEY_ID\"],\n",
    "    \"aws_secret_access_key\": os.environ[\"AWS_SECRET_ACCESS_KEY\"],\n",
    "    \"aws_region\": os.environ[\"AWS_DEFAULT_REGION\"],\n",
    "    \"aws_token\": os.environ[\"AWS_SESSION_TOKEN\"]\n",
    "  }\n",
    "username = os.environ[\"VAULT_TOP_DIR\"] # un peu bancal pour avoir le username\n",
    "\n",
    "df = pl.read_parquet(source = f\"s3://{username}/diffusion/INSEE/prenoms-nat2022.parquet\", storage_options=storage_options)\n",
    "print(df)"
   ]
  },
  {
   "cell_type": "code",
   "execution_count": 21,
   "id": "21bbec24-efff-4ef6-b5d5-ad482607f7fd",
   "metadata": {},
   "outputs": [],
   "source": [
    "top10f2021 = df\\\n",
    "    .filter((pl.col(\"sexe\") == 2) & \n",
    "            (pl.col(\"annais\") == \"2021\") & \n",
    "            (pl.col(\"preusuel\") != \"_PRENOMS_RARES\"))"
   ]
  },
  {
   "cell_type": "code",
   "execution_count": 24,
   "id": "473aae66-b463-4001-88e9-715e580b2945",
   "metadata": {
    "scrolled": true
   },
   "outputs": [
    {
     "name": "stdout",
     "output_type": "stream",
     "text": [
      "shape: (10, 2)\n",
      "┌──────────┬──────────────┐\n",
      "│ preusuel ┆ nombre_total │\n",
      "│ ---      ┆ ---          │\n",
      "│ str      ┆ i64          │\n",
      "╞══════════╪══════════════╡\n",
      "│ JADE     ┆ 3800         │\n",
      "│ LOUISE   ┆ 3768         │\n",
      "│ EMMA     ┆ 3201         │\n",
      "│ AMBRE    ┆ 3017         │\n",
      "│ ALICE    ┆ 2767         │\n",
      "│ ROSE     ┆ 2702         │\n",
      "│ ANNA     ┆ 2514         │\n",
      "│ ALBA     ┆ 2505         │\n",
      "│ ROMY     ┆ 2447         │\n",
      "│ MIA      ┆ 2431         │\n",
      "└──────────┴──────────────┘\n"
     ]
    }
   ],
   "source": [
    "top10f2021 = df\\\n",
    "    .filter((pl.col(\"sexe\") == 2) & \n",
    "            (pl.col(\"annais\") == \"2021\") & \n",
    "            (pl.col(\"preusuel\") != \"_PRENOMS_RARES\"))\\\n",
    "    .group_by(\"preusuel\")\\\n",
    "    .agg(pl.col(\"nombre\").sum().alias(\"nombre_total\"))\\\n",
    "    .sort(\"nombre_total\", descending=True)\\\n",
    "    .limit(10)\n",
    "\n",
    "print(top10f2021)\n",
    "\n",
    "\n"
   ]
  },
  {
   "cell_type": "code",
   "execution_count": 30,
   "id": "716e14a5-1493-4668-b227-666aa93615e3",
   "metadata": {},
   "outputs": [
    {
     "name": "stderr",
     "output_type": "stream",
     "text": [
      "/tmp/ipykernel_1213/274316182.py:13: UserWarning: Polars found a filename. Ensure you pass a path to the file instead of a python file object when possible for best performance.\n",
      "  top10f2021.write_csv(f)\n"
     ]
    }
   ],
   "source": [
    "import s3fs\n",
    "\n",
    "fs = s3fs.S3FileSystem(\n",
    "    client_kwargs={'endpoint_url': 'https://'+'minio-simple.lab.groupe-genes.fr'},\n",
    "    key = os.environ[\"AWS_ACCESS_KEY_ID\"], \n",
    "    secret = os.environ[\"AWS_SECRET_ACCESS_KEY\"], \n",
    "    token = os.environ[\"AWS_SESSION_TOKEN\"])\n",
    "\n",
    "destination = f\"s3://{username}/diffusion/INSEE/output.csv\"\n",
    "\n",
    "with fs.open(destination, mode='wb') as f:\n",
    "    top10f2021.write_csv(f)"
   ]
  }
 ],
 "metadata": {
  "kernelspec": {
   "display_name": "Python 3 (ipykernel)",
   "language": "python",
   "name": "python3"
  },
  "language_info": {
   "codemirror_mode": {
    "name": "ipython",
    "version": 3
   },
   "file_extension": ".py",
   "mimetype": "text/x-python",
   "name": "python",
   "nbconvert_exporter": "python",
   "pygments_lexer": "ipython3",
   "version": "3.12.6"
  }
 },
 "nbformat": 4,
 "nbformat_minor": 5
}
